{
 "cells": [
  {
   "cell_type": "code",
   "execution_count": 28,
   "metadata": {},
   "outputs": [],
   "source": [
    "import pandas as pd\n",
    "\n",
    "# Load the data from the uploaded CSV file\n",
    "file_path = 'feature_nans_removed.csv'\n",
    "data = pd.read_csv(file_path)\n",
    "\n",
    "# Remove the unused 'Unnamed: 0' column and ensure no NaN values in 'mood'\n",
    "data = data.drop(columns=['Unnamed: 0']).dropna(subset=['mood'])\n"
   ]
  },
  {
   "cell_type": "code",
   "execution_count": 29,
   "metadata": {},
   "outputs": [
    {
     "data": {
      "text/plain": [
       "(((1014,), numpy.ndarray, (254,), numpy.ndarray), ((1014,), (254,)))"
      ]
     },
     "execution_count": 29,
     "metadata": {},
     "output_type": "execute_result"
    }
   ],
   "source": [
    "from sklearn.model_selection import train_test_split\n",
    "import numpy as np\n",
    "\n",
    "# Define a function to create variable-length sequences\n",
    "def create_variable_sequences(df, max_steps):\n",
    "    X, y = [], []\n",
    "    for i in range(len(df)):\n",
    "        # Calculate start index for the variable-length sequence\n",
    "        start_ix = max(0, i - max_steps + 1)\n",
    "        # Gather input and output parts of the pattern\n",
    "        seq_x, seq_y = df.iloc[start_ix:i+1, 2:].values, df.iloc[i, 3]  # mood is at index 3\n",
    "        X.append(seq_x)\n",
    "        y.append(seq_y)\n",
    "    return np.array(X, dtype=object), np.array(y)\n",
    "\n",
    "# Creating variable-length sequences using up to a 7-day history\n",
    "max_steps = 7\n",
    "X_var, y_var = create_variable_sequences(data, max_steps)\n",
    "\n",
    "# Splitting the dataset into training and testing sets for variable-length sequences\n",
    "X_train_var, X_test_var, y_train_var, y_test_var = train_test_split(X_var, y_var, test_size=0.2, random_state=42)\n",
    "\n",
    "# Check the shapes and types of the resulting arrays\n",
    "(X_train_var.shape, type(X_train_var[0]), X_test_var.shape, type(X_test_var[0])), (y_train_var.shape, y_test_var.shape)\n"
   ]
  },
  {
   "cell_type": "code",
   "execution_count": 30,
   "metadata": {},
   "outputs": [
    {
     "name": "stdout",
     "output_type": "stream",
     "text": [
      "Updated y_train_var_updated shape: (1014,)\n",
      "Updated y_test_var_updated shape: (254,)\n"
     ]
    },
    {
     "data": {
      "text/plain": [
       "((1014,),\n",
       " (254,),\n",
       " array([3.        , 3.33333333, 3.5       , 3.75      , 3.8       ,\n",
       "        4.33333333, 4.4       , 4.5       , 4.66666667, 4.75      ,\n",
       "        4.8       , 5.        , 5.2       , 5.25      , 5.33333333,\n",
       "        5.4       , 5.5       , 5.6       , 5.66666667, 5.75      ,\n",
       "        5.8       , 6.        , 6.16666667, 6.2       , 6.25      ,\n",
       "        6.33333333, 6.4       , 6.5       , 6.6       , 6.66666667,\n",
       "        6.75      , 6.8       , 6.83333333, 7.        , 7.16666667,\n",
       "        7.2       , 7.25      , 7.33333333, 7.4       , 7.5       ,\n",
       "        7.6       , 7.66666667, 7.75      , 7.8       , 7.83333333,\n",
       "        8.        , 8.16666667, 8.2       , 8.25      , 8.33333333,\n",
       "        8.4       , 8.5       , 8.6       , 8.75      , 8.8       ,\n",
       "        9.        , 9.33333333]),\n",
       " array([3.5       , 3.75      , 4.33333333, 4.4       , 4.5       ,\n",
       "        5.        , 5.25      , 5.33333333, 5.4       , 5.5       ,\n",
       "        5.66666667, 5.75      , 5.8       , 6.        , 6.2       ,\n",
       "        6.25      , 6.33333333, 6.4       , 6.5       , 6.6       ,\n",
       "        6.66666667, 6.75      , 6.8       , 7.        , 7.2       ,\n",
       "        7.25      , 7.4       , 7.5       , 7.6       , 7.66666667,\n",
       "        7.75      , 7.8       , 8.        , 8.2       , 8.25      ,\n",
       "        8.4       , 8.6       , 9.        ]))"
      ]
     },
     "execution_count": 30,
     "metadata": {},
     "output_type": "execute_result"
    }
   ],
   "source": [
    "# Converting daily mood scores directly to float\n",
    "data['mood'] = data['mood'].astype(float)\n",
    "\n",
    "# Updating the mood targets in the variable-length sequences for regression\n",
    "def update_targets_for_regression(X, y, df):\n",
    "    # Mood scores as continuous values\n",
    "    mood_scores = df['mood'].values\n",
    "    \n",
    "    # Ensure only the labels corresponding to the sequences are used\n",
    "    y_updated = []\n",
    "    for i, seq in enumerate(X):\n",
    "        # Get the index of the last item in the sequence for the label\n",
    "        label_index = len(seq) - 1 + i\n",
    "        if label_index < len(mood_scores):\n",
    "            y_updated.append(mood_scores[label_index])\n",
    "    return X, np.array(y_updated)\n",
    "\n",
    "# Apply the updated targets to the variable-length sequences\n",
    "X_train_var, y_train_var_updated = update_targets_for_regression(X_train_var, y_train_var, data)\n",
    "X_test_var, y_test_var_updated = update_targets_for_regression(X_test_var, y_test_var, data)\n",
    "\n",
    "\n",
    "# Verify the updated target shapes and ensure they match the number of sequences\n",
    "print(f\"Updated y_train_var_updated shape: {y_train_var_updated.shape}\")\n",
    "print(f\"Updated y_test_var_updated shape: {y_test_var_updated.shape}\")\n",
    "\n",
    "# Function to replace NaNs with zero in each sequence\n",
    "def replace_nans(X):\n",
    "    return [np.nan_to_num(np.array(seq, dtype=float), nan=0.0) for seq in X]\n",
    "\n",
    "# Replace NaNs in X_train_var and X_test_var\n",
    "X_train_var = replace_nans(X_train_var)\n",
    "X_test_var = replace_nans(X_test_var)\n",
    "\n",
    "# Verify the updated target shapes and unique classes\n",
    "y_train_var_updated.shape, y_test_var_updated.shape, np.unique(y_train_var_updated), np.unique(y_test_var_updated)\n"
   ]
  },
  {
   "cell_type": "code",
   "execution_count": 31,
   "metadata": {},
   "outputs": [
    {
     "name": "stdout",
     "output_type": "stream",
     "text": [
      "Epoch 1, Loss: 25.95891571044922\n",
      "Epoch 2, Loss: 10.23878002166748\n",
      "Epoch 3, Loss: 2.7501864433288574\n",
      "Epoch 4, Loss: 0.6570164561271667\n",
      "Epoch 5, Loss: 0.42089998722076416\n",
      "Epoch 6, Loss: 0.9466493725776672\n",
      "Epoch 7, Loss: 0.6528249979019165\n",
      "Epoch 8, Loss: 1.11165452003479\n",
      "Epoch 9, Loss: 0.5875440239906311\n",
      "Epoch 10, Loss: 0.678849995136261\n",
      "Mean Squared Error: 0.7788128411676002\n",
      "Root Mean Squared Error: 0.8825037343646769\n",
      "Mean Absolute Error: 0.6469647720104127\n"
     ]
    }
   ],
   "source": [
    "import torch\n",
    "import torch.nn as nn\n",
    "from torch.utils.data import DataLoader, TensorDataset\n",
    "\n",
    "# Setting the number of LSTM units\n",
    "num_lstm_units = 100\n",
    "\n",
    "class MoodRNN(nn.Module):\n",
    "    def __init__(self):\n",
    "        super(MoodRNN, self).__init__()\n",
    "        self.lstm = nn.LSTM(input_size=12, hidden_size=num_lstm_units, batch_first=True)\n",
    "        self.regressor = nn.Linear(num_lstm_units, 1)  # Output layer for regression\n",
    "\n",
    "    def forward(self, x):\n",
    "        lstm_out, _ = self.lstm(x)\n",
    "        last_time_step = lstm_out[:, -1, :]\n",
    "        mood_prediction = self.regressor(last_time_step)\n",
    "        return mood_prediction\n",
    "\n",
    "# Function to create data loaders with padding for regression\n",
    "def create_padded_loader(X, y, batch_size):\n",
    "    X_padded = nn.utils.rnn.pad_sequence([torch.tensor(x, dtype=torch.float32) for x in X], batch_first=True)\n",
    "    y_tensor = torch.tensor(y, dtype=torch.float32)\n",
    "    dataset = TensorDataset(X_padded, y_tensor)\n",
    "    return DataLoader(dataset, batch_size=batch_size, shuffle=True)\n",
    "\n",
    "# Create data loaders\n",
    "batch_size = 32\n",
    "train_loader = create_padded_loader(X_train_var, y_train_var_updated, batch_size)\n",
    "test_loader = create_padded_loader(X_test_var, y_test_var_updated, batch_size)\n",
    "\n",
    "# Setup device and model\n",
    "device = torch.device(\"cuda\" if torch.cuda.is_available() else \"cpu\")\n",
    "model = MoodRNN().to(device)\n",
    "criterion_mse = nn.MSELoss()\n",
    "criterion_mae = nn.L1Loss()\n",
    "optimizer = torch.optim.Adam(model.parameters(), lr=0.001)\n",
    "\n",
    "# Training loop\n",
    "model.train()\n",
    "for epoch in range(10):  # Number of epochs\n",
    "    for X_batch, y_batch in train_loader:\n",
    "        X_batch, y_batch = X_batch.to(device), y_batch.to(device)\n",
    "        optimizer.zero_grad()\n",
    "        outputs = model(X_batch)\n",
    "        loss = criterion_mse(outputs, y_batch)\n",
    "        loss.backward()\n",
    "        optimizer.step()\n",
    "    print(f'Epoch {epoch+1}, Loss: {loss.item()}')\n",
    "\n",
    "# Testing loop for regression\n",
    "model.eval()\n",
    "total_loss_mse = 0\n",
    "total_loss_mae = 0\n",
    "count = 0\n",
    "with torch.no_grad():\n",
    "    for X_batch, y_batch in test_loader:\n",
    "        X_batch, y_batch = X_batch.to(device), y_batch.to(device)\n",
    "        outputs = model(X_batch).squeeze()  \n",
    "        loss_mse = criterion_mse(outputs, y_batch) \n",
    "        loss_mae = criterion_mae(outputs, y_batch)  \n",
    "        total_loss_mse += loss_mse.item() * y_batch.size(0) \n",
    "        total_loss_mae += loss_mae.item() * y_batch.size(0) \n",
    "        count += y_batch.size(0)\n",
    "\n",
    "    mean_loss_mse = total_loss_mse / count\n",
    "    mean_loss_mae = total_loss_mae / count\n",
    "    print(f'Mean Squared Error: {mean_loss_mse}')\n",
    "    print(f'Root Mean Squared Error: {mean_loss_mse ** 0.5}')\n",
    "    print(f'Mean Absolute Error: {mean_loss_mae}')\n"
   ]
  }
 ],
 "metadata": {
  "kernelspec": {
   "display_name": "base",
   "language": "python",
   "name": "python3"
  },
  "language_info": {
   "codemirror_mode": {
    "name": "ipython",
    "version": 3
   },
   "file_extension": ".py",
   "mimetype": "text/x-python",
   "name": "python",
   "nbconvert_exporter": "python",
   "pygments_lexer": "ipython3",
   "version": "3.9.7"
  }
 },
 "nbformat": 4,
 "nbformat_minor": 2
}
