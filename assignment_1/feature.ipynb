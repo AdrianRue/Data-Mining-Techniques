{
 "cells": [
  {
   "cell_type": "code",
   "execution_count": null,
   "metadata": {},
   "outputs": [],
   "source": [
    "import pandas as pd\n",
    "import matplotlib.pyplot as plt\n",
    "\n",
    "df = pd.read_csv('cleaned.csv')"
   ]
  },
  {
   "cell_type": "code",
   "execution_count": null,
   "metadata": {},
   "outputs": [],
   "source": [
    "df.head()"
   ]
  },
  {
   "cell_type": "code",
   "execution_count": null,
   "metadata": {},
   "outputs": [],
   "source": [
    "unique_ids = df['id'].unique()\n",
    "unique_variables = df['variable'].unique()\n",
    "\n"
   ]
  },
  {
   "cell_type": "code",
   "execution_count": null,
   "metadata": {},
   "outputs": [],
   "source": [
    "list = []\n",
    "\n",
    "for person in unique_ids:\n",
    "\n",
    "    new_df = df.loc[(df['id'] == '{}'.format(person))]\n",
    "    dates = new_df['date'].unique()\n",
    "    \n",
    "   \n",
    "    for date in dates:\n",
    "        new_row = {}\n",
    "        new_row['id'] = person\n",
    "        new_row['date'] = date\n",
    "        \n",
    "        for variable in unique_variables:\n",
    "\n",
    "            newest_df = new_df.loc[(df['id'] == '{}'.format(person)) & (df['variable'] == '{}'.format(variable)) & (df['date'] == '{}'.format(date))]\n",
    "\n",
    "            if variable == 'mood' or variable == 'circumplex.arousal' or  variable == 'circumplex.valence' or  variable == 'activity':\n",
    "                average = newest_df['value'].mean()\n",
    "                new_row['{}'.format(variable)] = average\n",
    "            else:\n",
    "                sum = newest_df['value'].sum()\n",
    "                new_row['{}'.format(variable)] = sum\n",
    "        \n",
    "        list.append(new_row)\n",
    "\n",
    "feature_df = pd.DataFrame(list)\n"
   ]
  },
  {
   "cell_type": "code",
   "execution_count": null,
   "metadata": {},
   "outputs": [],
   "source": [
    "# remove rows without mood\n",
    "\n",
    "feature_df = feature_df.drop(feature_df[feature_df['mood'].isna()].index)\n",
    "display(feature_df)"
   ]
  },
  {
   "cell_type": "code",
   "execution_count": null,
   "metadata": {},
   "outputs": [],
   "source": [
    "feature_df.to_csv('feature.csv')"
   ]
  }
 ],
 "metadata": {
  "kernelspec": {
   "display_name": "my_env",
   "language": "python",
   "name": "my_env"
  },
  "language_info": {
   "codemirror_mode": {
    "name": "ipython",
    "version": 3
   },
   "file_extension": ".py",
   "mimetype": "text/x-python",
   "name": "python",
   "nbconvert_exporter": "python",
   "pygments_lexer": "ipython3",
   "version": "3.11.4"
  }
 },
 "nbformat": 4,
 "nbformat_minor": 2
}
