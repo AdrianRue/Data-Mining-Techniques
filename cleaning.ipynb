{
 "cells": [
  {
   "cell_type": "code",
   "execution_count": null,
   "metadata": {},
   "outputs": [],
   "source": [
    "import pandas as pd\n",
    "\n",
    "df = pd.read_csv('dataset_mood_smartphone.csv')"
   ]
  },
  {
   "cell_type": "code",
   "execution_count": null,
   "metadata": {},
   "outputs": [],
   "source": [
    "del df['Unnamed: 0']"
   ]
  },
  {
   "cell_type": "code",
   "execution_count": null,
   "metadata": {},
   "outputs": [],
   "source": [
    "test = df.loc[(df['variable'] == 'appCat.builtin')]\n",
    "test.sort_values(by='value', ascending=False)"
   ]
  },
  {
   "cell_type": "code",
   "execution_count": null,
   "metadata": {},
   "outputs": [],
   "source": [
    "display(df)"
   ]
  },
  {
   "cell_type": "code",
   "execution_count": null,
   "metadata": {},
   "outputs": [],
   "source": [
    "#Removing negative time values\n",
    "\n",
    "df = df.drop(df[(df['variable'] != 'circumplex.arousal') & (df['variable'] != 'circumplex.valence') & (df['value'] < 0)].index)\n",
    "\n",
    "# Dropping NaN values\n",
    "\n",
    "df = df.drop(df[df['value'].isna()].index)\n",
    "\n",
    "# Dropping lowly correlated and seemingly unimportant variables\n",
    "\n",
    "df = df.drop(df[(df['variable'] == 'call')].index)\n",
    "df = df.drop(df[(df['variable'] == 'appCat.travel')].index)\n",
    "df = df.drop(df[(df['variable'] == 'appCat.weather')].index)\n",
    "df = df.drop(df[(df['variable'] == 'appCat.utilities')].index)\n",
    "df = df.drop(df[(df['variable'] == 'appCat.finance')].index)\n",
    "df = df.drop(df[(df['variable'] == 'appCat.unknown')].index)\n",
    "\n",
    "\n",
    "# Removed timed values under 3 seconds for opening and closing applications\n",
    "\n",
    "df = df.drop(df[(df['variable'] != 'circumplex.arousal') & (df['variable'] != 'mood') & (df['variable'] != 'circumplex.sms') & (df['variable'] != 'circumplex.valence') & (df['variable'] != 'activity') & (df['value'] < 3)].index)\n",
    "\n",
    "# Removes values with exact same time\n",
    "df =  df.drop_duplicates(subset=['id', 'time', 'variable'], keep='first')\n",
    "\n",
    "\n"
   ]
  },
  {
   "cell_type": "code",
   "execution_count": null,
   "metadata": {},
   "outputs": [],
   "source": [
    "df[['date', 'time']] = df['time'].str.split(' ', n=1, expand=True)"
   ]
  },
  {
   "cell_type": "code",
   "execution_count": null,
   "metadata": {},
   "outputs": [],
   "source": [
    "df.to_csv('cleaned.csv')"
   ]
  }
 ],
 "metadata": {
  "kernelspec": {
   "display_name": "my_env",
   "language": "python",
   "name": "my_env"
  },
  "language_info": {
   "codemirror_mode": {
    "name": "ipython",
    "version": 3
   },
   "file_extension": ".py",
   "mimetype": "text/x-python",
   "name": "python",
   "nbconvert_exporter": "python",
   "pygments_lexer": "ipython3",
   "version": "3.11.4"
  }
 },
 "nbformat": 4,
 "nbformat_minor": 2
}
