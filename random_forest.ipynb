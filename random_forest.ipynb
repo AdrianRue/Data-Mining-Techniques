{
 "cells": [
  {
   "cell_type": "code",
   "execution_count": 1,
   "metadata": {},
   "outputs": [],
   "source": [
    "import numpy as np\n",
    "import pandas as pd\n",
    "from sklearn.model_selection import train_test_split\n",
    "from sklearn.ensemble import RandomForestClassifier, RandomForestRegressor\n",
    "from sklearn.metrics import accuracy_score, precision_score, recall_score, f1_score, multilabel_confusion_matrix\n",
    "from sklearn.metrics import mean_squared_error, mean_absolute_error"
   ]
  },
  {
   "cell_type": "code",
   "execution_count": 2,
   "metadata": {},
   "outputs": [],
   "source": [
    "# load cleaned data\n",
    "df = pd.read_csv('feature_nans_removed.csv')\n",
    "df = df.drop('Unnamed: 0', axis=1)"
   ]
  },
  {
   "cell_type": "code",
   "execution_count": 3,
   "metadata": {},
   "outputs": [],
   "source": [
    "df = df.sort_values(by=\"date\")"
   ]
  },
  {
   "cell_type": "code",
   "execution_count": 4,
   "metadata": {},
   "outputs": [],
   "source": [
    "df[\"date\"] = (pd.to_datetime(df[\"date\"]) - pd.Timestamp(\"1970-01-01\")) // pd.Timedelta(\"1s\")"
   ]
  },
  {
   "cell_type": "code",
   "execution_count": 5,
   "metadata": {},
   "outputs": [],
   "source": [
    "df = df.drop(df[df['activity'].isna()].index)"
   ]
  },
  {
   "cell_type": "code",
   "execution_count": 6,
   "metadata": {},
   "outputs": [],
   "source": [
    "df = df.drop(df[df['circumplex.valence'].isna()].index)"
   ]
  },
  {
   "cell_type": "code",
   "execution_count": 7,
   "metadata": {},
   "outputs": [],
   "source": [
    "# one hot encode into 5 classes\n",
    "classes = ['Very sad', 'Sad', 'Neutral', 'Happy', 'Very happy']\n",
    "df['mood class'] = pd.cut(df['mood'], bins=5, labels=classes)\n",
    "one_hot_encoded = pd.get_dummies(df['mood class'])\n",
    "df = pd.concat([df, one_hot_encoded], axis=1)\n",
    "#df.drop(['mood', 'mood class'], axis=1, inplace=True)"
   ]
  },
  {
   "cell_type": "code",
   "execution_count": 8,
   "metadata": {},
   "outputs": [],
   "source": [
    "# approach 1\n",
    "# split into train and test\n",
    "# based on user:  80% of user's records train, 20% of user's records test\n",
    "users = df[\"id\"].unique()\n",
    "\n",
    "train_data = pd.DataFrame()\n",
    "test_data = pd.DataFrame()\n",
    "\n",
    "for id in users:\n",
    "    user_data = df[df[\"id\"] == id]\n",
    "    n = len(user_data)\n",
    "    split_index = int(np.round(n*0.8))\n",
    "    train_user_data = user_data.iloc[:split_index]\n",
    "    test_user_data = user_data.iloc[split_index:]\n",
    "    train_data = pd.concat([train_data, train_user_data])\n",
    "    test_data = pd.concat([test_data, test_user_data])"
   ]
  },
  {
   "cell_type": "code",
   "execution_count": 9,
   "metadata": {},
   "outputs": [],
   "source": [
    "# Use pandas get_dummies to one-hot encode the user IDs\n",
    "one_hot_encoded_train = pd.get_dummies(train_data['id'], prefix='user_id')\n",
    "one_hot_encoded_test = pd.get_dummies(test_data['id'], prefix='user_id')\n",
    "\n",
    "train_data = pd.concat([train_data, one_hot_encoded_train], axis=1)\n",
    "train_data = train_data.drop(\"id\", axis=1)\n",
    "\n",
    "test_data = pd.concat([test_data, one_hot_encoded_test], axis=1)\n",
    "test_data = test_data.drop(\"id\", axis=1)"
   ]
  },
  {
   "cell_type": "code",
   "execution_count": 10,
   "metadata": {},
   "outputs": [
    {
     "data": {
      "text/plain": [
       "Index(['date', 'mood', 'circumplex.arousal', 'circumplex.valence', 'activity',\n",
       "       'screen', 'appCat.builtin', 'appCat.communication',\n",
       "       'appCat.entertainment', 'appCat.game', 'appCat.office', 'appCat.other',\n",
       "       'appCat.social', 'mood class', 'Very sad', 'Sad', 'Neutral', 'Happy',\n",
       "       'Very happy', 'user_id_AS14.01', 'user_id_AS14.02', 'user_id_AS14.03',\n",
       "       'user_id_AS14.05', 'user_id_AS14.06', 'user_id_AS14.07',\n",
       "       'user_id_AS14.08', 'user_id_AS14.09', 'user_id_AS14.12',\n",
       "       'user_id_AS14.13', 'user_id_AS14.14', 'user_id_AS14.15',\n",
       "       'user_id_AS14.16', 'user_id_AS14.17', 'user_id_AS14.19',\n",
       "       'user_id_AS14.20', 'user_id_AS14.23', 'user_id_AS14.24',\n",
       "       'user_id_AS14.25', 'user_id_AS14.26', 'user_id_AS14.27',\n",
       "       'user_id_AS14.28', 'user_id_AS14.29', 'user_id_AS14.30',\n",
       "       'user_id_AS14.31', 'user_id_AS14.32', 'user_id_AS14.33'],\n",
       "      dtype='object')"
      ]
     },
     "execution_count": 10,
     "metadata": {},
     "output_type": "execute_result"
    }
   ],
   "source": [
    "train_data.columns"
   ]
  },
  {
   "cell_type": "code",
   "execution_count": 11,
   "metadata": {},
   "outputs": [],
   "source": [
    "# data sets for classification task\n",
    "y_test_classification, y_train_classification = test_data[classes], train_data[classes]\n",
    "x_test_classification, x_train_classification = test_data.drop(classes + ['mood','mood class'], axis=1), train_data.drop(classes + ['mood','mood class'], axis=1)"
   ]
  },
  {
   "cell_type": "code",
   "execution_count": 12,
   "metadata": {},
   "outputs": [],
   "source": [
    "# data sets for regression task\n",
    "y_test_regression, y_train_regression = test_data['mood'], train_data['mood']\n",
    "x_test_regression, x_train_regression = test_data.drop(classes + ['mood','mood class'], axis=1), train_data.drop(classes + ['mood','mood class'], axis=1)"
   ]
  },
  {
   "cell_type": "code",
   "execution_count": 25,
   "metadata": {},
   "outputs": [],
   "source": [
    "# approach 2\n",
    "# use train_test_split \n",
    "# train_set, test_set = train_test_split(df, test_size=0.2, train_size=0.8, random_state=42, shuffle=True, stratify=df['Complain'])"
   ]
  },
  {
   "cell_type": "markdown",
   "metadata": {},
   "source": [
    "MODELING"
   ]
  },
  {
   "cell_type": "code",
   "execution_count": 14,
   "metadata": {},
   "outputs": [
    {
     "data": {
      "text/plain": [
       "RandomForestClassifier(random_state=42)"
      ]
     },
     "execution_count": 14,
     "metadata": {},
     "output_type": "execute_result"
    }
   ],
   "source": [
    "# random forest classification\n",
    "\n",
    "rfc = RandomForestClassifier(n_estimators=100, random_state=42)\n",
    "rfc.fit(x_train_classification, y_train_classification)"
   ]
  },
  {
   "cell_type": "code",
   "execution_count": 15,
   "metadata": {},
   "outputs": [],
   "source": [
    "predictions = rfc.predict(x_test_classification)"
   ]
  },
  {
   "cell_type": "code",
   "execution_count": 16,
   "metadata": {},
   "outputs": [
    {
     "name": "stdout",
     "output_type": "stream",
     "text": [
      "Accuracy: 0.7248908296943232\n",
      "Precision: 0.7104042174212826\n",
      "Recall: 0.7248908296943232\n",
      "F1-score: 0.7155256387922728\n",
      "Confusion matrix of class Very sad: \n",
      "[[229   0]\n",
      " [  0   0]]\n",
      "Confusion matrix of class Sad: \n",
      "[[221   0]\n",
      " [  8   0]]\n",
      "Confusion matrix of class Neutral: \n",
      "[[136  19]\n",
      " [ 29  45]]\n",
      "Confusion matrix of class Happy: \n",
      "[[ 59  31]\n",
      " [ 18 121]]\n",
      "Confusion matrix of class Very happy: \n",
      "[[221   0]\n",
      " [  8   0]]\n"
     ]
    },
    {
     "name": "stderr",
     "output_type": "stream",
     "text": [
      "/usr/local/Caskroom/miniconda/base/lib/python3.9/site-packages/sklearn/metrics/_classification.py:1248: UndefinedMetricWarning: Precision is ill-defined and being set to 0.0 in labels with no predicted samples. Use `zero_division` parameter to control this behavior.\n",
      "  _warn_prf(average, modifier, msg_start, len(result))\n",
      "/usr/local/Caskroom/miniconda/base/lib/python3.9/site-packages/sklearn/metrics/_classification.py:1248: UndefinedMetricWarning: Recall is ill-defined and being set to 0.0 in labels with no true samples. Use `zero_division` parameter to control this behavior.\n",
      "  _warn_prf(average, modifier, msg_start, len(result))\n",
      "/usr/local/Caskroom/miniconda/base/lib/python3.9/site-packages/sklearn/metrics/_classification.py:1495: UndefinedMetricWarning: F-score is ill-defined and being set to 0.0 in labels with no true nor predicted samples. Use `zero_division` parameter to control this behavior.\n",
      "  _warn_prf(\n"
     ]
    }
   ],
   "source": [
    "# Calculate evaluation metrics\n",
    "accuracy = accuracy_score(y_test_classification, predictions)\n",
    "precision = precision_score(y_test_classification, predictions, average=\"weighted\")\n",
    "recall = recall_score(y_test_classification, predictions, average=\"weighted\")\n",
    "f1 = f1_score(y_test_classification, predictions, average=\"weighted\")\n",
    "\n",
    "confusion_mat = multilabel_confusion_matrix(y_test_classification, predictions)\n",
    "\n",
    "print('Accuracy:', accuracy)\n",
    "print('Precision:', precision)\n",
    "print('Recall:', recall)\n",
    "print('F1-score:', f1)\n",
    "\n",
    "for c in enumerate(classes):\n",
    "    print('Confusion matrix of class ' + c[-1] + \": \")\n",
    "    print(confusion_mat[c[0]])"
   ]
  },
  {
   "cell_type": "code",
   "execution_count": 17,
   "metadata": {},
   "outputs": [
    {
     "data": {
      "text/plain": [
       "RandomForestRegressor(random_state=42)"
      ]
     },
     "execution_count": 17,
     "metadata": {},
     "output_type": "execute_result"
    }
   ],
   "source": [
    "# random forrest regression\n",
    "\n",
    "rfr = RandomForestRegressor(n_estimators=100, random_state=42)\n",
    "rfr.fit(x_train_regression, y_train_regression)"
   ]
  },
  {
   "cell_type": "code",
   "execution_count": 18,
   "metadata": {},
   "outputs": [],
   "source": [
    "predictions = rfr.predict(x_test_regression)"
   ]
  },
  {
   "cell_type": "code",
   "execution_count": 19,
   "metadata": {},
   "outputs": [
    {
     "name": "stdout",
     "output_type": "stream",
     "text": [
      "MSE:  0.2041379270984958\n",
      "MAE:  0.352664483260553\n"
     ]
    }
   ],
   "source": [
    "mse = mean_squared_error(y_test_regression, predictions)\n",
    "mae = mean_absolute_error(y_test_regression, predictions)\n",
    "\n",
    "print('MSE: ',mse)\n",
    "print('MAE: ',mae)"
   ]
  },
  {
   "cell_type": "markdown",
   "metadata": {},
   "source": [
    "Hyperparam search random forest"
   ]
  },
  {
   "cell_type": "code",
   "execution_count": null,
   "metadata": {},
   "outputs": [],
   "source": [
    "n_estimators = [10, 50, 100, 200]\n",
    "max_features = ['sqrt', 'log2']\n",
    "max_depth = [None, 5, 10, 20]\n",
    "min_samples_split =  [2, 5, 10]\n",
    "min_samples_leaf = [1, 2, 4]\n",
    "\n",
    "best_loss = np.inf\n",
    "best_params = []\n",
    "\n",
    "for type in ['classification','regression']:\n",
    "    if type == 'classification':\n",
    "        x_train = x_train_classification\n",
    "        y_train = y_train_classification\n",
    "        x_test = x_test_classification\n",
    "        y_test = y_test_classification\n",
    "    elif type == 'regression':\n",
    "        x_train = x_train_regression\n",
    "        y_train = y_train_regression\n",
    "        x_test = x_test_regression\n",
    "        y_test = y_test_regression\n",
    "    for n_estimator in n_estimators:\n",
    "        for max_feature in max_features:\n",
    "            for max_d in max_depth:\n",
    "                for min_samp_s in min_samples_split:\n",
    "                    for min_samp_l in min_samples_leaf:\n",
    "                        if type == 'classification':\n",
    "                            rf = RandomForestClassifier(n_estimators=n_estimator, max_features=max_feature , max_depth=max_d , min_samples_split=min_samp_s , min_samples_leaf=min_samp_l, random_state=42)\n",
    "                            rf.fit(x_train, y_train)\n",
    "                            predictions = rf.predict(x_test)\n",
    "                            f1 = f1_score(y_test, predictions, average=\"weighted\")\n",
    "                            if f1 < best_loss:\n",
    "                                best_loss = f1\n",
    "                                best_params = [n_estimator, max_feature, max_d, min_samp_s, min_samp_l]\n",
    "                        if type == 'regression':\n",
    "                            rf = RandomForestRegressor(n_estimators=n_estimator, max_features=max_feature , max_depth=max_d , min_samples_split=min_samp_s , min_samples_leaf=min_samp_l, random_state=42)\n",
    "                            rf.fit(x_train, y_train)\n",
    "                            predictions = rf.predict(x_test)\n",
    "                            mse = mean_squared_error(y_test, predictions)\n",
    "                            if mse < best_loss:\n",
    "                                best_loss = mse\n",
    "                                best_params = [n_estimator, max_feature, max_d, min_samp_s, min_samp_l]\n",
    "                        \n",
    "    print(best_params)\n",
    "    if type == 'classification':\n",
    "        rf = RandomForestClassifier(n_estimators=best_params[0], max_features=best_params[1] , max_depth=best_params[2] , min_samples_split=best_params[3] , min_samples_leaf=best_params[4], random_state=42)\n",
    "        rf.fit(x_train, y_train)\n",
    "        predictions = rfc.predict(x_test)\n",
    "\n",
    "        accuracy = accuracy_score(y_test, predictions)\n",
    "        precision = precision_score(y_test, predictions, average=\"weighted\")\n",
    "        recall = recall_score(y_test, predictions, average=\"weighted\")\n",
    "        f1 = f1_score(y_test, predictions, average=\"weighted\")\n",
    "\n",
    "        confusion_mat = multilabel_confusion_matrix(y_test, predictions)\n",
    "\n",
    "        print('Accuracy:', accuracy)\n",
    "        print('Precision:', precision)\n",
    "        print('Recall:', recall)\n",
    "        print('F1-score:', f1)\n",
    "\n",
    "        for c in enumerate(classes):\n",
    "            print('Confusion matrix of class ' + c[-1] + \": \")\n",
    "            print(confusion_mat[c[0]])\n",
    "\n",
    "    if type == 'regression':\n",
    "        rf = RandomForestRegressor(n_estimators=best_params[0], max_features=best_params[1] , max_depth=best_params[2] , min_samples_split=best_params[3] , min_samples_leaf=best_params[4], random_state=42)\n",
    "        rf.fit(x_train, y_train)\n",
    "        predictions = rfc.predict(x_test)\n",
    "\n",
    "        mse = mean_squared_error(y_test, predictions)\n",
    "        mae = mean_absolute_error(y_test, predictions)\n",
    "\n",
    "        print('MSE: ',mse)\n",
    "        print('MAE: ',mae)"
   ]
  }
 ],
 "metadata": {
  "kernelspec": {
   "display_name": "base",
   "language": "python",
   "name": "python3"
  },
  "language_info": {
   "codemirror_mode": {
    "name": "ipython",
    "version": 3
   },
   "file_extension": ".py",
   "mimetype": "text/x-python",
   "name": "python",
   "nbconvert_exporter": "python",
   "pygments_lexer": "ipython3",
   "version": "3.9.12"
  }
 },
 "nbformat": 4,
 "nbformat_minor": 2
}
