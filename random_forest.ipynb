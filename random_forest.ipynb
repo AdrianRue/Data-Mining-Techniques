{
 "cells": [
  {
   "cell_type": "code",
   "execution_count": null,
   "metadata": {},
   "outputs": [],
   "source": [
    "import numpy as np\n",
    "import pandas as pd\n",
    "from sklearn.model_selection import train_test_split\n",
    "from sklearn.ensemble import RandomForestClassifier, RandomForestRegressor\n",
    "from sklearn.metrics import accuracy_score, precision_score, recall_score, f1_score, multilabel_confusion_matrix\n",
    "from sklearn.metrics import mean_squared_error, mean_absolute_error"
   ]
  },
  {
   "cell_type": "code",
   "execution_count": null,
   "metadata": {},
   "outputs": [],
   "source": [
    "# load cleaned data\n",
    "df = pd.read_csv('cleaned_data.csv')\n",
    "df = df.drop('Unnamed: 0', axis=1)"
   ]
  },
  {
   "cell_type": "code",
   "execution_count": null,
   "metadata": {},
   "outputs": [],
   "source": [
    "# approach 1\n",
    "# split into train and test\n",
    "# based on user:  80% of user's records train, 20% of user's records test\n",
    "users = df[\"id\"].unique()\n",
    "\n",
    "train_data = pd.DataFrame()\n",
    "test_data = pd.DataFrame()\n",
    "\n",
    "for id in users:\n",
    "    user_data = df[df[\"id\"] == id]\n",
    "    n = len(user_data)\n",
    "    split_index = int(np.round(n*0.8))\n",
    "    train_user_data = user_data.iloc[:split_index]\n",
    "    test_user_data = user_data.iloc[split_index:]\n",
    "    train_data = pd.concat([train_data, train_user_data])\n",
    "    test_data = pd.concat([test_data, test_user_data])"
   ]
  },
  {
   "cell_type": "code",
   "execution_count": null,
   "metadata": {},
   "outputs": [],
   "source": [
    "# approach 2\n",
    "# use train_test_split \n",
    "train_set, test_set = train_test_split(df, test_size=0.2, train_size=0.8, random_state=42, shuffle=True, stratify=df['Complain'])"
   ]
  },
  {
   "cell_type": "code",
   "execution_count": null,
   "metadata": {},
   "outputs": [],
   "source": [
    "# define classes for classificaiton\n",
    "classes = [1,2,3,4,5,6,7,8,9,10]"
   ]
  },
  {
   "cell_type": "markdown",
   "metadata": {},
   "source": [
    "MODELING"
   ]
  },
  {
   "cell_type": "code",
   "execution_count": null,
   "metadata": {},
   "outputs": [],
   "source": [
    "# random forest classification\n",
    "\n",
    "rfc = RandomForestClassifier(n_estimators=100, random_state=42)\n",
    "rfc.fit(x_train, y_train)"
   ]
  },
  {
   "cell_type": "code",
   "execution_count": null,
   "metadata": {},
   "outputs": [],
   "source": [
    "predictions = rfc.predict(x_test)"
   ]
  },
  {
   "cell_type": "code",
   "execution_count": null,
   "metadata": {},
   "outputs": [],
   "source": [
    "# Calculate evaluation metrics\n",
    "accuracy = accuracy_score(y_test, predictions)\n",
    "precision = precision_score(y_test, predictions, average=\"weighted\")\n",
    "recall = recall_score(y_test, predictions, average=\"weighted\")\n",
    "f1 = f1_score(y_test, predictions, average=\"weighted\")\n",
    "\n",
    "confusion_mat = multilabel_confusion_matrix(y_test, predictions)\n",
    "\n",
    "print('Accuracy:', accuracy)\n",
    "print('Precision:', precision)\n",
    "print('Recall:', recall)\n",
    "print('F1-score:', f1)\n",
    "\n",
    "for c in enumerate(classes):\n",
    "    print('Confusion matrix of class ' + c[-1] + \": \")\n",
    "    print(confusion_mat[c[0]])"
   ]
  },
  {
   "cell_type": "code",
   "execution_count": null,
   "metadata": {},
   "outputs": [],
   "source": [
    "# random forrest regression\n",
    "\n",
    "rfr = RandomForestRegressor(n_estimators=100, random_state=42)\n",
    "rfr.fit(x_train, y_train)"
   ]
  },
  {
   "cell_type": "code",
   "execution_count": null,
   "metadata": {},
   "outputs": [],
   "source": [
    "predictions = rfr.predict(x_test)"
   ]
  },
  {
   "cell_type": "code",
   "execution_count": null,
   "metadata": {},
   "outputs": [],
   "source": [
    "mse = mean_squared_error(y_test, predictions)\n",
    "mae = mean_absolute_error(y_test, predictions)\n",
    "\n",
    "print('MSE: ',mse)\n",
    "print('MAE: ',mae)"
   ]
  },
  {
   "cell_type": "markdown",
   "metadata": {},
   "source": [
    "Hyperparam search random forest"
   ]
  },
  {
   "cell_type": "code",
   "execution_count": null,
   "metadata": {},
   "outputs": [],
   "source": [
    "n_estimators = [10, 50, 100, 200]\n",
    "max_features = ['sqrt', 'log2']\n",
    "max_depth = [None, 5, 10, 20]\n",
    "min_samples_split =  [2, 5, 10]\n",
    "min_samples_leaf = [1, 2, 4]\n",
    "\n",
    "best_loss = np.inf\n",
    "best_params = []\n",
    "\n",
    "for type in ['classification','regression']:\n",
    "    for n_estimator in n_estimators:\n",
    "        for max_feature in max_features:\n",
    "            for max_d in max_depth:\n",
    "                for min_samp_s in min_samples_split:\n",
    "                    for min_samp_l in min_samples_leaf:\n",
    "                        if type == 'classification':\n",
    "                            rf = RandomForestClassifier(n_estimators=n_estimator, max_features=max_feature , max_depth=max_d , min_samples_split=min_samp_s , min_samples_leaf=min_samp_l, random_state=42)\n",
    "                            rf.fit(x_train_train, y_train_train)\n",
    "                            predictions = rf.predict(x_train_test)\n",
    "                            f1 = f1_score(y_train_test, predictions, average=\"weighted\")\n",
    "                            if f1 < best_loss:\n",
    "                                best_loss = f1\n",
    "                                best_params = [n_estimator, max_feature, max_d, min_samp_s, min_samp_l]\n",
    "                        if type == 'regression':\n",
    "                            rf = RandomForestRegressor(n_estimators=n_estimator, max_features=max_feature , max_depth=max_d , min_samples_split=min_samp_s , min_samples_leaf=min_samp_l, random_state=42)\n",
    "                            rf.fit(x_train_train, y_train_train)\n",
    "                            predictions = rf.predict(x_train_test)\n",
    "                            mse = mean_squared_error(y_train_test, predictions)\n",
    "                            if mse < best_loss:\n",
    "                                best_loss = mse\n",
    "                                best_params = [n_estimator, max_feature, max_d, min_samp_s, min_samp_l]\n",
    "                        \n",
    "    print(best_params)\n",
    "    if type == 'classification':\n",
    "        rf = RandomForestClassifier(n_estimators=best_params[0], max_features=best_params[1] , max_depth=best_params[2] , min_samples_split=best_params[3] , min_samples_leaf=best_params[4], random_state=42)\n",
    "        rf.fit(x_train, y_train)\n",
    "        predictions = rfc.predict(x_test)\n",
    "\n",
    "        accuracy = accuracy_score(y_test, predictions)\n",
    "        precision = precision_score(y_test, predictions, average=\"weighted\")\n",
    "        recall = recall_score(y_test, predictions, average=\"weighted\")\n",
    "        f1 = f1_score(y_test, predictions, average=\"weighted\")\n",
    "\n",
    "        confusion_mat = multilabel_confusion_matrix(y_test, predictions)\n",
    "\n",
    "        print('Accuracy:', accuracy)\n",
    "        print('Precision:', precision)\n",
    "        print('Recall:', recall)\n",
    "        print('F1-score:', f1)\n",
    "\n",
    "        for c in enumerate(classes):\n",
    "            print('Confusion matrix of class ' + c[-1] + \": \")\n",
    "            print(confusion_mat[c[0]])\n",
    "\n",
    "    if type == 'regression':\n",
    "        rf = RandomForestRegressor(n_estimators=best_params[0], max_features=best_params[1] , max_depth=best_params[2] , min_samples_split=best_params[3] , min_samples_leaf=best_params[4], random_state=42)\n",
    "        rf.fit(x_train, y_train)\n",
    "        predictions = rfc.predict(x_test)\n",
    "\n",
    "        mse = mean_squared_error(y_test, predictions)\n",
    "        mae = mean_absolute_error(y_test, predictions)\n",
    "\n",
    "        print('MSE: ',mse)\n",
    "        print('MAE: ',mae)"
   ]
  }
 ],
 "metadata": {
  "language_info": {
   "name": "python"
  }
 },
 "nbformat": 4,
 "nbformat_minor": 2
}
