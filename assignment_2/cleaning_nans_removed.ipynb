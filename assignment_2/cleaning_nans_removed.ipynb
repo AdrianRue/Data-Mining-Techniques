{
 "cells": [
  {
   "cell_type": "code",
   "execution_count": null,
   "metadata": {},
   "outputs": [],
   "source": [
    "import pandas as pd\n",
    "import numpy as np\n",
    "from scipy import stats\n",
    "\n",
    "#load dataset\n",
    "df = pd.read_csv('training_set_VU_DM.csv')"
   ]
  },
  {
   "cell_type": "code",
   "execution_count": null,
   "metadata": {},
   "outputs": [],
   "source": [
    "# convert date to numerical feature \n",
    "df = df.sort_values(by=\"date_time\")\n",
    "df[\"date_time\"] = (pd.to_datetime(df[\"date_time\"]) - pd.Timestamp(\"1970-01-01\")) // pd.Timedelta(\"1s\")"
   ]
  },
  {
   "cell_type": "code",
   "execution_count": null,
   "metadata": {},
   "outputs": [],
   "source": [
    "# drop columns with lot of nans and uncorrelated columns\n",
    "drop_columns_nans = ['visitor_hist_starrating', 'visitor_hist_adr_usd','srch_query_affinity_score','comp1_rate', 'comp1_inv',\n",
    "       'comp1_rate_percent_diff', 'comp2_rate', 'comp2_inv',\n",
    "       'comp2_rate_percent_diff', 'comp3_rate', 'comp3_inv',\n",
    "       'comp3_rate_percent_diff', 'comp4_rate', 'comp4_inv',\n",
    "       'comp4_rate_percent_diff', 'comp5_rate', 'comp5_inv',\n",
    "       'comp5_rate_percent_diff', 'comp6_rate', 'comp6_inv',\n",
    "       'comp6_rate_percent_diff', 'comp7_rate', 'comp7_inv',\n",
    "       'comp7_rate_percent_diff', 'comp8_rate']\n",
    "drop_columns_low_correlation = ['site_id','prop_log_historical_price', 'srch_destination_id']\n",
    "df = df.drop(drop_columns_nans, axis=1)\n",
    "df = df.drop(drop_columns_low_correlation, axis=1)"
   ]
  },
  {
   "cell_type": "code",
   "execution_count": null,
   "metadata": {},
   "outputs": [],
   "source": [
    "df_wo_outliers = df.copy(deep=True)\n",
    "for index,p in enumerate(df['prop_id'].unique()):\n",
    "#p=93974\n",
    "    if index % 1000 == 0:\n",
    "        print(index)\n",
    "    new_df = df.loc[(df['prop_id'] == p)]\n",
    "    outliers_p = new_df[np.abs(stats.zscore(new_df['price_usd']))>1].index\n",
    "    df_wo_outliers.drop(outliers_p, axis=0)\n",
    "\n",
    "hotel_means = df_wo_outliers.groupby('prop_id')['price_usd'].mean().reset_index()\n",
    "\n",
    "\n",
    "df_merged = df.merge(hotel_means, on='prop_id', suffixes=('', '_mean'))\n",
    "\n",
    "threshold = 0.3\n",
    "def replace_with_mean(row):\n",
    "    if row['price_usd'] < row['price_usd_mean'] * threshold:\n",
    "        print(row['prop_id'])\n",
    "        print(row['price_usd'], row['price_usd_mean'])\n",
    "        return row['price_usd_mean']\n",
    "    else:\n",
    "        return row['price_usd']\n",
    "\n",
    "df_merged['adjusted_price'] = df_merged.apply(replace_with_mean, axis=1)\n",
    "\n",
    "df_merged = df_merged.drop('price_usd', axis=1).rename(columns={'adjusted_price': 'price_usd'})\n",
    "\n"
   ]
  },
  {
   "cell_type": "code",
   "execution_count": null,
   "metadata": {},
   "outputs": [],
   "source": [
    "df.to_csv('cleaned.csv')"
   ]
  }
 ],
 "metadata": {
  "kernelspec": {
   "display_name": "base",
   "language": "python",
   "name": "python3"
  },
  "language_info": {
   "codemirror_mode": {
    "name": "ipython",
    "version": 3
   },
   "file_extension": ".py",
   "mimetype": "text/x-python",
   "name": "python",
   "nbconvert_exporter": "python",
   "pygments_lexer": "ipython3",
   "version": "3.9.12"
  }
 },
 "nbformat": 4,
 "nbformat_minor": 2
}
