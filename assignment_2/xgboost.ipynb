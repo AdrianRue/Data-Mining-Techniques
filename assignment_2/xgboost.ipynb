{
 "cells": [
  {
   "cell_type": "code",
   "execution_count": null,
   "metadata": {},
   "outputs": [],
   "source": [
    "from sklearn.datasets import make_classification\n",
    "import numpy as np\n",
    "import pandas as pd\n",
    "from sklearn.model_selection import train_test_split\n",
    "import xgboost as xgb"
   ]
  },
  {
   "cell_type": "code",
   "execution_count": null,
   "metadata": {},
   "outputs": [],
   "source": [
    "# load cleaned data\n",
    "df = pd.read_csv('trash.csv')\n",
    "df = df.drop('Unnamed: 0', axis=1)"
   ]
  },
  {
   "cell_type": "code",
   "execution_count": null,
   "metadata": {},
   "outputs": [],
   "source": [
    "df = df.sort_values(by=['srch_id'])\n",
    "replace_dict = dict(zip(df['srch_id'].unique(), list(range(len(df['srch_id'].unique())))))\n",
    "def replace_search_id(qd):\n",
    "    return replace_dict[qd['srch_id']]\n",
    "\n",
    "df[\"srch_id\"] = df.apply(replace_search_id,axis=1)"
   ]
  },
  {
   "cell_type": "code",
   "execution_count": null,
   "metadata": {},
   "outputs": [],
   "source": [
    "def relevance_score_click_bool(qd):\n",
    "    id = qd\n",
    "    if qd['booking_bool'] == 1:\n",
    "        return 5\n",
    "    if qd['click_bool'] == 1:\n",
    "        return 1\n",
    "    return 0\n",
    "\n",
    "df[\"relevance\"] = df.apply(relevance_score_click_bool,axis=1)"
   ]
  },
  {
   "cell_type": "code",
   "execution_count": null,
   "metadata": {},
   "outputs": [],
   "source": [
    "# # dit is vgm dus niet nodig\n",
    "# # Function to assign ranking based on book and click status\n",
    "# def assign_rank(row):\n",
    "#     if row['booking_bool']:\n",
    "#         return 1  \n",
    "#     elif row['click_bool']:\n",
    "#         return 2  \n",
    "#     else:\n",
    "#         return 3  \n",
    "\n",
    "# df['rank'] = df.apply(assign_rank, axis=1)\n",
    "# df['rank'] = df.groupby('srch_id')['rank'].rank(method='first')\n",
    "# df = df.sort_values(by=['srch_id', 'rank'])"
   ]
  },
  {
   "cell_type": "code",
   "execution_count": null,
   "metadata": {},
   "outputs": [],
   "source": [
    "ids = df['srch_id'].unique()\n",
    "train_idx, validation_idx = train_test_split(ids, test_size=0.2)\n",
    "train_idx, validation_idx"
   ]
  },
  {
   "cell_type": "code",
   "execution_count": null,
   "metadata": {},
   "outputs": [],
   "source": [
    "train = df[df['srch_id'].isin(train_idx)]\n",
    "val = df[df['srch_id'].isin(validation_idx)]"
   ]
  },
  {
   "cell_type": "code",
   "execution_count": null,
   "metadata": {},
   "outputs": [],
   "source": [
    "train_rank = train['relevance']\n",
    "train_qid = train['srch_id']\n",
    "train_x = train.drop(['click_bool', 'booking_bool', 'relevance','srch_id'],axis=1)\n",
    "\n",
    "val_rank = val['relevance']\n",
    "val_qid = val['srch_id']\n",
    "val_x = val.drop(['click_bool', 'booking_bool', 'relevance','srch_id'],axis=1)"
   ]
  },
  {
   "cell_type": "code",
   "execution_count": null,
   "metadata": {},
   "outputs": [],
   "source": [
    "dtrain = xgb.DMatrix(train_x, label=np.array(train_rank))\n",
    "groups = train.groupby('srch_id').size().values\n",
    "dtrain.set_group(groups)\n"
   ]
  },
  {
   "cell_type": "code",
   "execution_count": null,
   "metadata": {},
   "outputs": [],
   "source": [
    "import numpy as np\n",
    "import xgboost as xgb\n",
    "\n",
    "def ndcg_5(preds, dtrain):\n",
    "    labels = dtrain.get_label()  # True relevance\n",
    "    preds = np.reshape(preds, (len(labels), -1))  #predicitonss\n",
    "    num_queries = len(dtrain.get_group())  # number of unique searches\n",
    "\n",
    "    # for i in range(num_queries):\n",
    "    #     start_idx = dtrain.get_group()[:i-1].sum() \n",
    "\n",
    "    # DCG_p = 0\n",
    "    # for index in range(5):\n",
    "    #     rel_i = \n",
    "\n",
    "    #     current_ratio=(2**(ordered_data[index])-1)*(math.log((float(index)+2), 2)**(-1))\n",
    "    #     DCG_p = DCG_p + current_ratio\n",
    "    # ordered_data.sort(reverse=True)  \n",
    "    # K = len(ordered_data)\n",
    "    # indexloop = range(0, K)\n",
    "    # iDCG_p = 0\n",
    "    # for index in indexloop:\n",
    "    #     current_ratio=(2**(ordered_data[index])-1)*((math.log((index+2), 2))**(-1))\n",
    "    #     iDCG_p = iDCG_p + current_ratio\n",
    "    # return(DCG_p/iDCG_p)\n",
    "\n",
    "model = xgb.train({'tree_method': 'hist', 'seed': 1994},  # any other tree method is fine.\n",
    "           dtrain=dtrain,\n",
    "           num_boost_round=10,\n",
    "           obj=ndcg_5)"
   ]
  },
  {
   "cell_type": "code",
   "execution_count": null,
   "metadata": {},
   "outputs": [],
   "source": [
    "# ranker2 = xgb.XGBRanker(tree_method=\"hist\", lambdarank_num_pair_per_sample=8, objective=\"rank:ndcg\", lambdarank_pair_method=\"topk\")\n",
    "# ranker2.fit(train_x, train_rank, qid = train_qid)"
   ]
  }
 ],
 "metadata": {
  "kernelspec": {
   "display_name": "base",
   "language": "python",
   "name": "python3"
  },
  "language_info": {
   "codemirror_mode": {
    "name": "ipython",
    "version": 3
   },
   "file_extension": ".py",
   "mimetype": "text/x-python",
   "name": "python",
   "nbconvert_exporter": "python",
   "pygments_lexer": "ipython3",
   "version": "3.9.12"
  }
 },
 "nbformat": 4,
 "nbformat_minor": 2
}
